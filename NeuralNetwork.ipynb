{
 "cells": [
  {
   "cell_type": "code",
   "execution_count": 2,
   "metadata": {
    "collapsed": true
   },
   "outputs": [],
   "source": [
    "import numpy\n",
    "#test\n",
    "\n",
    "class neuralNetwork:\n",
    "    \n",
    "    #initialize neuralNetwork\n",
    "    def __init__(self, inputNodes, hiddenNodes, outputNodes, learningRate):\n",
    "        \n",
    "        #initialize size of neuralNetwork\n",
    "        self.iNodes = inputNodes\n",
    "        self.hNodes = hiddenNodes\n",
    "        self.oNodes = outputNodes\n",
    "        \n",
    "        #link weight matrices, Wih and Who\n",
    "        #weights inside the arrays are w_i_j, where link is from node i to node j in the next layer\n",
    "        #W1.1 W2.1\n",
    "        #W1.2 W2.2 etc.\n",
    "        #weights from inputNodes to hiddenNodes\n",
    "        self.Wih = numpy.random.normal(0.0, pow(self.iNodes, -0.5), (self.hNodes, self.oNodes))\n",
    "        #weights from hiddenNodes to outputNodes\n",
    "        self.Who = numpy.random.normal(0.0, pow(self.hNodes, -0.5), (self.oNodes, self.hNodes))\n",
    "        #initialize learning rate for neuralNetwork\n",
    "        self.lr = learningRate\n",
    "        pass\n",
    "    \n",
    "    #train neuralNetwork\n",
    "    def train(self):\n",
    "        pass\n",
    "    \n",
    "    #query neuralNetwork\n",
    "    def query(self, inputList):\n",
    "        \n",
    "        #convert inputs list to 2d array\n",
    "        inputs = numpy.array(inputList, ndmin = 2).T\n",
    "        pass"
   ]
  },
  {
   "cell_type": "code",
   "execution_count": 4,
   "metadata": {},
   "outputs": [],
   "source": [
    "#3x3 neuralNetwork\n",
    "input_nodes = 3\n",
    "hidden_nodes = 3\n",
    "output_nodes = 3\n",
    "\n",
    "#learning rate initialized as 0.3\n",
    "learning_rate = 0.3\n",
    "\n",
    "#create new instance of neuralNetwork\n",
    "n = neuralNetwork(input_nodes, hidden_nodes, output_nodes, learning_rate)"
   ]
  },
  {
   "cell_type": "code",
   "execution_count": 6,
   "metadata": {},
   "outputs": [
    {
     "data": {
      "text/plain": [
       "array([[-0.19990513,  0.20023282,  0.4092015 ],\n       [-0.12575418, -0.41557311, -0.23791393],\n       [-0.36291249,  0.28788643,  0.13206373]])"
      ]
     },
     "execution_count": 6,
     "metadata": {},
     "output_type": "execute_result"
    }
   ],
   "source": [
    "numpy.random.rand(3, 3) - 0.5"
   ]
  },
  {
   "cell_type": "code",
   "execution_count": null,
   "metadata": {},
   "outputs": [],
   "source": []
  }
 ],
 "metadata": {
  "kernelspec": {
   "display_name": "Python 2",
   "language": "python",
   "name": "python2"
  },
  "language_info": {
   "codemirror_mode": {
    "name": "ipython",
    "version": 2
   },
   "file_extension": ".py",
   "mimetype": "text/x-python",
   "name": "python",
   "nbconvert_exporter": "python",
   "pygments_lexer": "ipython2",
   "version": "2.7.6"
  }
 },
 "nbformat": 4,
 "nbformat_minor": 0
}
